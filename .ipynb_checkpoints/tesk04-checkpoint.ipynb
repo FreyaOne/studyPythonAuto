{
 "cells": [
  {
   "cell_type": "markdown",
   "metadata": {},
   "source": [
    "### 操作PDF"
   ]
  },
  {
   "cell_type": "markdown",
   "metadata": {},
   "source": [
    "#### 拆分PDF"
   ]
  },
  {
   "cell_type": "code",
   "execution_count": 6,
   "metadata": {},
   "outputs": [],
   "source": [
    "import os\n",
    "from PyPDF2 import PdfFileReader\n",
    "from PyPDF2 import PdfFileWriter"
   ]
  },
  {
   "cell_type": "code",
   "execution_count": 1,
   "metadata": {},
   "outputs": [
    {
     "name": "stdout",
     "output_type": "stream",
     "text": [
      "/Users/fling/Documents/Datawhale/python自动化/pdfTest/易方达中小盘混合型证券投资基金2020年中期报告.pdf1.pdf\n",
      "/Users/fling/Documents/Datawhale/python自动化/pdfTest/易方达中小盘混合型证券投资基金2020年中期报告.pdf2.pdf\n",
      "/Users/fling/Documents/Datawhale/python自动化/pdfTest/易方达中小盘混合型证券投资基金2020年中期报告.pdf3.pdf\n",
      "/Users/fling/Documents/Datawhale/python自动化/pdfTest/易方达中小盘混合型证券投资基金2020年中期报告.pdf4.pdf\n",
      "/Users/fling/Documents/Datawhale/python自动化/pdfTest/易方达中小盘混合型证券投资基金2020年中期报告.pdf5.pdf\n",
      "文件已成功拆分，保存路径为：/Users/fling/Documents/Datawhale/python自动化/pdfTest\n"
     ]
    }
   ],
   "source": [
    "def split_pdf(filename, filepath, save_dirpath, step=5):\n",
    "    \"\"\"\n",
    "    拆分PDF为多个小的PDF文件，\n",
    "    @param filename:文件名\n",
    "    @param filepath:文件路径\n",
    "    @param save_dirpath:保存小的PDF的文件路径\n",
    "    @param step: 每step间隔的页面生成一个文件，例如step=5，表示0-4页、5-9页...为一个文件\n",
    "    @return:\n",
    "    \"\"\"\n",
    "    if not os.path.exists(save_dirpath):   #判断需要保存的文件路径是否存在\n",
    "        os.mkdir(save_dirpath)   # 不存在就新建路径\n",
    "    pdf_reader = PdfFileReader(filepath)  # 打开文件 \n",
    "    # 读取每一页的数据\n",
    "    pages = pdf_reader.getNumPages()\n",
    "    for page in range(0, pages, step):\n",
    "        pdf_writer = PdfFileWriter()   # 创建文件对象\n",
    "        # 拆分pdf，每 step 页的拆分为一个文件\n",
    "        for index in range(page, page+step):\n",
    "            if index < pages:\n",
    "                pdf_writer.addPage(pdf_reader.getPage(index))   # 向文件对象中添加页面\n",
    "        # 保存拆分后的小文件\n",
    "        save_path = os.path.join(save_dirpath, filename+str(int(page/step)+1)+'.pdf')\n",
    "        print(save_path)\n",
    "        with open(save_path, \"wb\") as out:\n",
    "            pdf_writer.write(out)\n",
    "\n",
    "    print(\"文件已成功拆分，保存路径为：\"+save_dirpath)\n",
    "    \n",
    "split_pdf('易方达中小盘混合型证券投资基金2020年中期报告.pdf','/Users/fling/Documents/Datawhale/python自动化/pdfTest/易方达中小盘混合型证券投资基金2020年中期报告.pdf','/Users/fling/Documents/Datawhale/python自动化/pdfTest',10)"
   ]
  },
  {
   "cell_type": "markdown",
   "metadata": {},
   "source": [
    "*注：修改utils.py的路径为 anaconda/Lib/pythonxxx/site-packages*"
   ]
  },
  {
   "cell_type": "markdown",
   "metadata": {},
   "source": [
    "#### 批量合并PDF"
   ]
  },
  {
   "cell_type": "code",
   "execution_count": 7,
   "metadata": {},
   "outputs": [
    {
     "ename": "ValueError",
     "evalue": "invalid literal for int() with base 10: '.DS_S'",
     "output_type": "error",
     "traceback": [
      "\u001b[0;31m---------------------------------------------------------------------------\u001b[0m",
      "\u001b[0;31mValueError\u001b[0m                                Traceback (most recent call last)",
      "\u001b[0;32m<ipython-input-7-558622dc70ff>\u001b[0m in \u001b[0;36m<module>\u001b[0;34m\u001b[0m\n\u001b[1;32m     25\u001b[0m     \u001b[0mprint\u001b[0m\u001b[0;34m(\u001b[0m\u001b[0;34m\"文件已成功合并，保存路径为：\"\u001b[0m\u001b[0;34m+\u001b[0m\u001b[0msave_filepath\u001b[0m\u001b[0;34m)\u001b[0m\u001b[0;34m\u001b[0m\u001b[0;34m\u001b[0m\u001b[0m\n\u001b[1;32m     26\u001b[0m \u001b[0;34m\u001b[0m\u001b[0m\n\u001b[0;32m---> 27\u001b[0;31m \u001b[0mconcat_pdf\u001b[0m\u001b[0;34m(\u001b[0m\u001b[0;34m'合并.pdf'\u001b[0m\u001b[0;34m,\u001b[0m\u001b[0;34m'/Users/fling/Documents/Datawhale/python自动化/pdfTest'\u001b[0m\u001b[0;34m,\u001b[0m\u001b[0;34m'/Users/fling/Documents/Datawhale/python自动化/pdfTest1'\u001b[0m\u001b[0;34m)\u001b[0m\u001b[0;34m\u001b[0m\u001b[0;34m\u001b[0m\u001b[0m\n\u001b[0m",
      "\u001b[0;32m<ipython-input-7-558622dc70ff>\u001b[0m in \u001b[0;36mconcat_pdf\u001b[0;34m(filename, read_dirpath, save_filepath)\u001b[0m\n\u001b[1;32m     10\u001b[0m     \u001b[0;31m# 对文件名进行排序\u001b[0m\u001b[0;34m\u001b[0m\u001b[0;34m\u001b[0m\u001b[0;34m\u001b[0m\u001b[0m\n\u001b[1;32m     11\u001b[0m     \u001b[0mlist_filename\u001b[0m \u001b[0;34m=\u001b[0m \u001b[0mos\u001b[0m\u001b[0;34m.\u001b[0m\u001b[0mlistdir\u001b[0m\u001b[0;34m(\u001b[0m\u001b[0mread_dirpath\u001b[0m\u001b[0;34m)\u001b[0m\u001b[0;34m\u001b[0m\u001b[0;34m\u001b[0m\u001b[0m\n\u001b[0;32m---> 12\u001b[0;31m     \u001b[0mlist_filename\u001b[0m\u001b[0;34m.\u001b[0m\u001b[0msort\u001b[0m\u001b[0;34m(\u001b[0m\u001b[0mkey\u001b[0m\u001b[0;34m=\u001b[0m\u001b[0;32mlambda\u001b[0m \u001b[0mx\u001b[0m\u001b[0;34m:\u001b[0m \u001b[0mint\u001b[0m\u001b[0;34m(\u001b[0m\u001b[0mx\u001b[0m\u001b[0;34m[\u001b[0m\u001b[0;34m:\u001b[0m\u001b[0;34m-\u001b[0m\u001b[0;36m4\u001b[0m\u001b[0;34m]\u001b[0m\u001b[0;34m.\u001b[0m\u001b[0mreplace\u001b[0m\u001b[0;34m(\u001b[0m\u001b[0mfilename\u001b[0m\u001b[0;34m,\u001b[0m \u001b[0;34m\"\"\u001b[0m\u001b[0;34m)\u001b[0m\u001b[0;34m)\u001b[0m\u001b[0;34m)\u001b[0m\u001b[0;34m\u001b[0m\u001b[0;34m\u001b[0m\u001b[0m\n\u001b[0m\u001b[1;32m     13\u001b[0m     \u001b[0;32mfor\u001b[0m \u001b[0mfilename\u001b[0m \u001b[0;32min\u001b[0m \u001b[0mlist_filename\u001b[0m\u001b[0;34m:\u001b[0m\u001b[0;34m\u001b[0m\u001b[0;34m\u001b[0m\u001b[0m\n\u001b[1;32m     14\u001b[0m         \u001b[0mprint\u001b[0m\u001b[0;34m(\u001b[0m\u001b[0mfilename\u001b[0m\u001b[0;34m)\u001b[0m\u001b[0;34m\u001b[0m\u001b[0;34m\u001b[0m\u001b[0m\n",
      "\u001b[0;32m<ipython-input-7-558622dc70ff>\u001b[0m in \u001b[0;36m<lambda>\u001b[0;34m(x)\u001b[0m\n\u001b[1;32m     10\u001b[0m     \u001b[0;31m# 对文件名进行排序\u001b[0m\u001b[0;34m\u001b[0m\u001b[0;34m\u001b[0m\u001b[0;34m\u001b[0m\u001b[0m\n\u001b[1;32m     11\u001b[0m     \u001b[0mlist_filename\u001b[0m \u001b[0;34m=\u001b[0m \u001b[0mos\u001b[0m\u001b[0;34m.\u001b[0m\u001b[0mlistdir\u001b[0m\u001b[0;34m(\u001b[0m\u001b[0mread_dirpath\u001b[0m\u001b[0;34m)\u001b[0m\u001b[0;34m\u001b[0m\u001b[0;34m\u001b[0m\u001b[0m\n\u001b[0;32m---> 12\u001b[0;31m     \u001b[0mlist_filename\u001b[0m\u001b[0;34m.\u001b[0m\u001b[0msort\u001b[0m\u001b[0;34m(\u001b[0m\u001b[0mkey\u001b[0m\u001b[0;34m=\u001b[0m\u001b[0;32mlambda\u001b[0m \u001b[0mx\u001b[0m\u001b[0;34m:\u001b[0m \u001b[0mint\u001b[0m\u001b[0;34m(\u001b[0m\u001b[0mx\u001b[0m\u001b[0;34m[\u001b[0m\u001b[0;34m:\u001b[0m\u001b[0;34m-\u001b[0m\u001b[0;36m4\u001b[0m\u001b[0;34m]\u001b[0m\u001b[0;34m.\u001b[0m\u001b[0mreplace\u001b[0m\u001b[0;34m(\u001b[0m\u001b[0mfilename\u001b[0m\u001b[0;34m,\u001b[0m \u001b[0;34m\"\"\u001b[0m\u001b[0;34m)\u001b[0m\u001b[0;34m)\u001b[0m\u001b[0;34m)\u001b[0m\u001b[0;34m\u001b[0m\u001b[0;34m\u001b[0m\u001b[0m\n\u001b[0m\u001b[1;32m     13\u001b[0m     \u001b[0;32mfor\u001b[0m \u001b[0mfilename\u001b[0m \u001b[0;32min\u001b[0m \u001b[0mlist_filename\u001b[0m\u001b[0;34m:\u001b[0m\u001b[0;34m\u001b[0m\u001b[0;34m\u001b[0m\u001b[0m\n\u001b[1;32m     14\u001b[0m         \u001b[0mprint\u001b[0m\u001b[0;34m(\u001b[0m\u001b[0mfilename\u001b[0m\u001b[0;34m)\u001b[0m\u001b[0;34m\u001b[0m\u001b[0;34m\u001b[0m\u001b[0m\n",
      "\u001b[0;31mValueError\u001b[0m: invalid literal for int() with base 10: '.DS_S'"
     ]
    }
   ],
   "source": [
    "def concat_pdf(filename, read_dirpath, save_filepath):\n",
    "    \"\"\"\n",
    "    合并多个PDF文件\n",
    "    @param filename:文件名\n",
    "    @param read_dirpath:要合并的PDF目录\n",
    "    @param save_filepath:合并后的PDF文件路径\n",
    "    @return:\n",
    "    \"\"\"\n",
    "    pdf_writer = PdfFileWriter()\n",
    "    # 对文件名进行排序\n",
    "    list_filename = os.listdir(read_dirpath)\n",
    "    print(list_filename)\n",
    "    list_filename.sort(key=lambda x: int(x[:-4].replace(filename, \"\")))\n",
    "    for filename in list_filename:\n",
    "        print(filename)\n",
    "        filepath = os.path.join(read_dirpath, filename)\n",
    "        # 读取文件并获取文件的页数\n",
    "        pdf_reader = PdfFileReader(filepath)\n",
    "        pages = pdf_reader.getNumPages()\n",
    "        # 逐页添加\n",
    "        for page in range(pages):\n",
    "            pdf_writer.addPage(pdf_reader.getPage(page))\n",
    "    # 保存合并后的文件\n",
    "    with open(save_filepath, \"wb\") as out:\n",
    "        pdf_writer.write(out)\n",
    "    print(\"文件已成功合并，保存路径为：\"+save_filepath)\n",
    "\n",
    "concat_pdf('total.pdf','/Users/fling/Documents/Datawhale/python自动化/pdfTest','/Users/fling/Documents/Datawhale/python自动化/pdfTest1')"
   ]
  }
 ],
 "metadata": {
  "kernelspec": {
   "display_name": "Python 3",
   "language": "python",
   "name": "python3"
  },
  "language_info": {
   "codemirror_mode": {
    "name": "ipython",
    "version": 3
   },
   "file_extension": ".py",
   "mimetype": "text/x-python",
   "name": "python",
   "nbconvert_exporter": "python",
   "pygments_lexer": "ipython3",
   "version": "3.7.4"
  }
 },
 "nbformat": 4,
 "nbformat_minor": 4
}
