{
 "cells": [
  {
   "cell_type": "markdown",
   "metadata": {},
   "source": [
    "1. 导入模块"
   ]
  },
  {
   "cell_type": "code",
   "execution_count": 4,
   "metadata": {},
   "outputs": [],
   "source": [
    "from openpyxl import load_workbook"
   ]
  },
  {
   "cell_type": "markdown",
   "metadata": {},
   "source": [
    "2. 根据名称获取表格"
   ]
  },
  {
   "cell_type": "code",
   "execution_count": 23,
   "metadata": {
    "scrolled": false
   },
   "outputs": [
    {
     "name": "stdout",
     "output_type": "stream",
     "text": [
      "['work']\n"
     ]
    }
   ],
   "source": [
    "exl = load_workbook(filename = './test.xlsx')\n",
    "print(exl.sheetnames)\n",
    "sheet = exl.active"
   ]
  },
  {
   "cell_type": "markdown",
   "metadata": {},
   "source": [
    "3. 输出sheet的大小"
   ]
  },
  {
   "cell_type": "code",
   "execution_count": 24,
   "metadata": {},
   "outputs": [
    {
     "name": "stdout",
     "output_type": "stream",
     "text": [
      "A1:B51104\n"
     ]
    }
   ],
   "source": [
    "print(sheet.dimensions)"
   ]
  },
  {
   "cell_type": "code",
   "execution_count": 25,
   "metadata": {},
   "outputs": [
    {
     "name": "stdout",
     "output_type": "stream",
     "text": [
      "人流数\n"
     ]
    }
   ],
   "source": [
    "cell = sheet.cell(row=1,column=2) #指定行列数\n",
    "print(cell.value)"
   ]
  },
  {
   "cell_type": "code",
   "execution_count": 26,
   "metadata": {},
   "outputs": [
    {
     "name": "stdout",
     "output_type": "stream",
     "text": [
      "时间点\n"
     ]
    }
   ],
   "source": [
    "cell_1 = sheet['A1'] #指定坐标\n",
    "print(cell_1.value)"
   ]
  },
  {
   "cell_type": "code",
   "execution_count": 27,
   "metadata": {},
   "outputs": [
    {
     "name": "stdout",
     "output_type": "stream",
     "text": [
      "1 1 B1\n"
     ]
    }
   ],
   "source": [
    "print(cell_1.row, cell_1.column, cell.coordinate)"
   ]
  },
  {
   "cell_type": "code",
   "execution_count": 28,
   "metadata": {},
   "outputs": [
    {
     "name": "stdout",
     "output_type": "stream",
     "text": [
      "((<Cell 'work'.A1>, <Cell 'work'.B1>, <Cell 'work'.C1>), (<Cell 'work'.A2>, <Cell 'work'.B2>, <Cell 'work'.C2>), (<Cell 'work'.A3>, <Cell 'work'.B3>, <Cell 'work'.C3>), (<Cell 'work'.A4>, <Cell 'work'.B4>, <Cell 'work'.C4>), (<Cell 'work'.A5>, <Cell 'work'.B5>, <Cell 'work'.C5>), (<Cell 'work'.A6>, <Cell 'work'.B6>, <Cell 'work'.C6>), (<Cell 'work'.A7>, <Cell 'work'.B7>, <Cell 'work'.C7>), (<Cell 'work'.A8>, <Cell 'work'.B8>, <Cell 'work'.C8>))\n"
     ]
    }
   ],
   "source": [
    "cells = sheet['A1:C8'] #A1到C8区域的值\n",
    "print(cells)"
   ]
  },
  {
   "cell_type": "code",
   "execution_count": 29,
   "metadata": {},
   "outputs": [
    {
     "name": "stdout",
     "output_type": "stream",
     "text": [
      "(<Cell 'work'.A1>, <Cell 'work'.B1>, <Cell 'work'.C1>) ((<Cell 'work'.A1>, <Cell 'work'.B1>, <Cell 'work'.C1>), (<Cell 'work'.A2>, <Cell 'work'.B2>, <Cell 'work'.C2>))\n"
     ]
    }
   ],
   "source": [
    "Row = sheet[1] #第1行的值\n",
    "Rows = sheet[1:2] #第1到2行的值\n",
    "print(Row,Rows)"
   ]
  },
  {
   "cell_type": "code",
   "execution_count": 30,
   "metadata": {},
   "outputs": [],
   "source": [
    "Column = sheet['A'] #第A列\n",
    "Columns = sheet['A:C'] #第A到C列"
   ]
  },
  {
   "cell_type": "code",
   "execution_count": 33,
   "metadata": {},
   "outputs": [
    {
     "name": "stdout",
     "output_type": "stream",
     "text": [
      "(<Cell 'work'.A1>, <Cell 'work'.B1>, <Cell 'work'.C1>, <Cell 'work'.D1>)\n",
      "时间点\n",
      "人流数\n",
      "None\n",
      "None\n",
      "(<Cell 'work'.A2>, <Cell 'work'.B2>, <Cell 'work'.C2>, <Cell 'work'.D2>)\n",
      "2020-09-01\n",
      "63306.166000000005\n",
      "None\n",
      "None\n",
      "(<Cell 'work'.A3>, <Cell 'work'.B3>, <Cell 'work'.C3>, <Cell 'work'.D3>)\n",
      "2020-09-01\n",
      "40535.964\n",
      "None\n",
      "None\n",
      "(<Cell 'work'.A4>, <Cell 'work'.B4>, <Cell 'work'.C4>, <Cell 'work'.D4>)\n",
      "2020-09-01\n",
      "30026.64\n",
      "None\n",
      "None\n",
      "(<Cell 'work'.A5>, <Cell 'work'.B5>, <Cell 'work'.C5>, <Cell 'work'.D5>)\n",
      "2020-09-01\n",
      "46291.07\n",
      "None\n",
      "None\n",
      "(<Cell 'work'.A1>, <Cell 'work'.A2>, <Cell 'work'.A3>, <Cell 'work'.A4>, <Cell 'work'.A5>)\n",
      "时间点\n",
      "2020-09-01\n",
      "2020-09-01\n",
      "2020-09-01\n",
      "2020-09-01\n",
      "(<Cell 'work'.B1>, <Cell 'work'.B2>, <Cell 'work'.B3>, <Cell 'work'.B4>, <Cell 'work'.B5>)\n",
      "人流数\n",
      "63306.166000000005\n",
      "40535.964\n",
      "30026.64\n",
      "46291.07\n",
      "(<Cell 'work'.C1>, <Cell 'work'.C2>, <Cell 'work'.C3>, <Cell 'work'.C4>, <Cell 'work'.C5>)\n",
      "None\n",
      "None\n",
      "None\n",
      "None\n",
      "None\n",
      "(<Cell 'work'.D1>, <Cell 'work'.D2>, <Cell 'work'.D3>, <Cell 'work'.D4>, <Cell 'work'.D5>)\n",
      "None\n",
      "None\n",
      "None\n",
      "None\n",
      "None\n"
     ]
    }
   ],
   "source": [
    "# 行获取\n",
    "for row in sheet.iter_rows(min_row = 1, max_row = 5,min_col = 1, max_col = 4):\n",
    "    print(row)\n",
    "    # 一列由多个单元格组成，若需要获取每个单元格的值则循环获取即可\n",
    "    for cell in row:\n",
    "        print(cell.value)\n",
    "\n",
    "# 列获取\n",
    "for col in sheet.iter_cols(min_row = 1,max_row = 5,min_col = 1, max_col = 4):\n",
    "    print(col)\n",
    "    for cell in col:\n",
    "        print(cell.value)"
   ]
  },
  {
   "cell_type": "markdown",
   "metadata": {},
   "source": [
    "##### 写入单元格"
   ]
  },
  {
   "cell_type": "code",
   "execution_count": 45,
   "metadata": {},
   "outputs": [
    {
     "name": "stdout",
     "output_type": "stream",
     "text": [
      "<Worksheet \"work\">\n"
     ]
    }
   ],
   "source": [
    "from openpyxl import load_workbook\n",
    "\n",
    "exl = load_workbook(filename = 'test.xlsx')\n",
    "sheet = exl.active\n",
    "print(sheet)\n",
    "sheet['A1'] = 'hello world'    # 往格子里添加值\n",
    "exl.save(filename = 'test.xlsx') #存入原Excel表中，若创建新文件则可命名为不同名称"
   ]
  },
  {
   "cell_type": "markdown",
   "metadata": {},
   "source": [
    "#### 创建新表，写入数据"
   ]
  },
  {
   "cell_type": "code",
   "execution_count": 35,
   "metadata": {},
   "outputs": [],
   "source": [
    "import xlwt\n",
    "workbook = xlwt.Workbook(encoding = 'utf-8')  #编码设置\n",
    "\n",
    "# 创建一个sheet\n",
    "sheet = workbook.add_sheet('My Worksheet')\n",
    "\n",
    "# 写入excel\n",
    "# 参数对应 行, 列, 值\n",
    "sheet.write(1,0,label = 'this is test')\n",
    "\n",
    "# 保存\n",
    "workbook.save('new_test.xls')"
   ]
  },
  {
   "cell_type": "markdown",
   "metadata": {},
   "source": [
    "#### 插入一列"
   ]
  },
  {
   "cell_type": "code",
   "execution_count": 47,
   "metadata": {},
   "outputs": [
    {
     "name": "stdout",
     "output_type": "stream",
     "text": [
      "<Worksheet \"work\">\n"
     ]
    }
   ],
   "source": [
    "from openpyxl import load_workbook\n",
    "\n",
    "exl = load_workbook(filename=\"./test.xlsx\")\n",
    "sheet = exl.active\n",
    "print(sheet)\n",
    "sheet.insert_cols(idx=1,amount=2)  #idx=2第2列，第2列前插入一列\n",
    "sheet.insert_rows(idx=2)"
   ]
  },
  {
   "cell_type": "code",
   "execution_count": 51,
   "metadata": {},
   "outputs": [],
   "source": [
    "sheet.delete_rows(idx=2, amount=1)"
   ]
  }
 ],
 "metadata": {
  "kernelspec": {
   "display_name": "Python 3",
   "language": "python",
   "name": "python3"
  },
  "language_info": {
   "codemirror_mode": {
    "name": "ipython",
    "version": 3
   },
   "file_extension": ".py",
   "mimetype": "text/x-python",
   "name": "python",
   "nbconvert_exporter": "python",
   "pygments_lexer": "ipython3",
   "version": "3.7.4"
  }
 },
 "nbformat": 4,
 "nbformat_minor": 4
}
