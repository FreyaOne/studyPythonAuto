{
 "cells": [
  {
   "cell_type": "markdown",
   "metadata": {},
   "source": [
    "### 记录几个常见的处理word的方法"
   ]
  },
  {
   "cell_type": "code",
   "execution_count": null,
   "metadata": {},
   "outputs": [],
   "source": [
    "from docx import Document  //导入模块\n",
    "doc_1 = Document()   //新建文档\n",
    "doc_1.add_heading('新建空白文档标题，级别为0',level = 0)  //创建标题，level代表级别\n",
    "paragraph_1 = doc_1.add_paragraph('这是第一段文字的开始\\n请多多关照！')   //创建段落\n",
    "paragraph_1.add_run('加粗字体').bold = True  // 给字体加粗，不加.bold是普通字体，.italic是斜体\n",
    "doc_1.add_page_break()  //添加分页符\n",
    "doc_1.save('doc_1.docx')  //保存文件"
   ]
  },
  {
   "cell_type": "markdown",
   "metadata": {},
   "source": [
    "#### 全局修改字体"
   ]
  },
  {
   "cell_type": "code",
   "execution_count": null,
   "metadata": {},
   "outputs": [],
   "source": [
    "doc_1.styles['Normal']._element.rPr.rFonts.set(qn('w:eastAsia'), u'宋体')   //全局将字体改成宋体\n",
    "heading_1.alignment = WD_PARAGRAPH_ALIGNMENT.CENTER   //居中对齐，默认居左对齐\n",
    "\n",
    "# 设置段落格式：首行缩进0.75cm，居左，段后距离1.0英寸,1.5倍行距。\n",
    "paragraph_1.paragraph_format.first_line_indent = Cm(0.75)\n",
    "paragraph_1.paragraph_format.alignment =  WD_PARAGRAPH_ALIGNMENT.LEFT\n",
    "paragraph_1.paragraph_format.space_after =  Inches(1.0)\n",
    "paragraph_1.paragraph_format.line_spacing =  1.5"
   ]
  },
  {
   "cell_type": "markdown",
   "metadata": {},
   "source": [
    "#### 插入图片和表格"
   ]
  },
  {
   "cell_type": "code",
   "execution_count": null,
   "metadata": {},
   "outputs": [],
   "source": [
    "from docx import Document\n",
    "from docx.shared import Inches\n",
    "   \n",
    "doc_1.add_picture('周杰伦.jpg',width=Inches(1.0), height=Inches(1.0))   //doc1代表打开的文档\n",
    "\n",
    "# 创建3行1列表格\n",
    "table1 = doc_1.add_table(rows=2, cols=1)\n",
    "table1.style='Medium Grid 1 Accent 1'  #表格样式很多种，如，Light Shading Accent 1等\n",
    "\n",
    "# 修改第2行第3列单元格的内容为营口\n",
    "table1.cell(0, 0).text = '营口'\n",
    "\n",
    "# 修改第3行第4列单元格的内容为人民\n",
    "table1.rows[1].cells[0].text = '人民'\n",
    "\n",
    "# 在表格底部新增一行\n",
    "row_cells = table1.add_row().cells\n",
    "\n",
    "# 新增行的第一列添加内容\n",
    "row_cells[0].text = '加油'"
   ]
  },
  {
   "cell_type": "markdown",
   "metadata": {},
   "source": [
    "#### 设置页眉和页脚"
   ]
  },
  {
   "cell_type": "code",
   "execution_count": null,
   "metadata": {},
   "outputs": [],
   "source": [
    "from docx import Document\n",
    "from docx.enum.text import WD_PARAGRAPH_ALIGNMENT\n",
    "\n",
    "header = document.sections[0].header # 获取第一个节的页眉\n",
    "\n",
    "paragraph = header.paragraphs[0] # 获取页眉的第一个段落\n",
    "\n",
    "paragraph.add_run('这是第一节的页眉') # 添加页面内容\n",
    "\n",
    "footer = document.sections[0].footer # 获取第一个节的页脚\n",
    "\n",
    "paragraph = footer.paragraphs[0] # 获取页脚的第一个段落\n",
    "\n",
    "paragraph.add_run('这是第一节的页脚') # 添加页脚内容"
   ]
  },
  {
   "cell_type": "markdown",
   "metadata": {},
   "source": [
    "#####  **注：在docx文档中又添加了2个节，共计3个节，页面和页脚会显示了“与上一节相同。如果不使用上一节的内容和样式要将header.is_linked_to_previous的属性或footer.is_linked_to_previous的属性设置为False**"
   ]
  },
  {
   "cell_type": "code",
   "execution_count": null,
   "metadata": {},
   "outputs": [],
   "source": [
    "document.add_section() # 添加一个新的节\n",
    "document.add_section() # 添加第3个节\n",
    "header = document.sections[1].header # 获取第2个节的页眉\n",
    "header.is_linked_to_previous = False # 不使用上节内容和样式"
   ]
  },
  {
   "cell_type": "markdown",
   "metadata": {},
   "source": [
    "##### 常见的文章文字属性"
   ]
  },
  {
   "cell_type": "code",
   "execution_count": null,
   "metadata": {},
   "outputs": [],
   "source": [
    "'''对齐设置'''\n",
    "from docx.enum.text import WD_ALIGN_PARAGRAPH\n",
    "#LEFT: 左对齐\n",
    "#CENTER: 文字居中\n",
    "#RIGHT: 右对齐\n",
    "#JUSTIFY: 文本两端对齐\n",
    "\n",
    "'''设置段落行距'''\n",
    "from docx.shared import Length\n",
    "# SINGLE :单倍行距（默认）\n",
    "#ONE_POINT_FIVE : 1.5倍行距\n",
    "# DOUBLE2 : 倍行距\n",
    "#AT_LEAST : 最小值\n",
    "#EXACTLY:固定值\n",
    "# MULTIPLE : 多倍行距\n",
    "\n",
    "paragraph.line_spacing_rule = WD_LINE_SPACING.EXACTLY #固定值\n",
    "paragraph_format.line_spacing = Pt(18) # 固定值18磅\n",
    "paragraph.line_spacing_rule = WD_LINE_SPACING.MULTIPLE #多倍行距\n",
    "paragraph_format.line_spacing = 1.75 # 1.75倍行间距\n",
    "\n",
    "'''设置字体属性'''\n",
    "from docx.shared import RGBColor,Pt\n",
    "#all_caps:全部大写字母\n",
    "#bold:加粗\n",
    "#color:字体颜色\n",
    "\n",
    "#double_strike:双删除线\n",
    "#hidden : 隐藏\n",
    "#imprint : 印记\n",
    "#italic : 斜体\n",
    "#name  :字体\n",
    "#shadow  :阴影\n",
    "#strike  :  删除线\n",
    "#subscript  :下标\t\n",
    "#superscript  :上标\n",
    "#underline  :下划线"
   ]
  }
 ],
 "metadata": {
  "kernelspec": {
   "display_name": "Python 3",
   "language": "python",
   "name": "python3"
  },
  "language_info": {
   "codemirror_mode": {
    "name": "ipython",
    "version": 3
   },
   "file_extension": ".py",
   "mimetype": "text/x-python",
   "name": "python",
   "nbconvert_exporter": "python",
   "pygments_lexer": "ipython3",
   "version": "3.7.4"
  }
 },
 "nbformat": 4,
 "nbformat_minor": 4
}
